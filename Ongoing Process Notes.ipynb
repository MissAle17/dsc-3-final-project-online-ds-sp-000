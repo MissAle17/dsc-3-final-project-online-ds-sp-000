{
 "cells": [
  {
   "cell_type": "markdown",
   "metadata": {},
   "source": [
    "\n",
    "Using an additional notebook to document process as I move along.\n",
    "\n",
    "\n",
    "Data description and explanation\n",
    "\n",
    "Import libraries\n",
    "\n",
    "Load thee data into Pandas Dataframe\n",
    "\n",
    "Review of attribute descriptions provided with the original dataset\n",
    "\n",
    "Look at summary statistics \n",
    "\n",
    "Convert target to binary [0,1]\n",
    "\n",
    "Save target as separate variable and make a new dataframe for our features with the y series dropped\n",
    "\n",
    "Get dummy variables for categorical features\n",
    "\n",
    "Visualizing the selected features using histograms and box-and-whisker plots\n",
    "\n",
    "Recreating the heatmap with the chosen level of features\n",
    "\n",
    "\n",
    "\n"
   ]
  },
  {
   "cell_type": "code",
   "execution_count": null,
   "metadata": {},
   "outputs": [],
   "source": []
  }
 ],
 "metadata": {
  "kernelspec": {
   "display_name": "Python [conda env:learn-env] *",
   "language": "python",
   "name": "conda-env-learn-env-py"
  },
  "language_info": {
   "codemirror_mode": {
    "name": "ipython",
    "version": 3
   },
   "file_extension": ".py",
   "mimetype": "text/x-python",
   "name": "python",
   "nbconvert_exporter": "python",
   "pygments_lexer": "ipython3",
   "version": "3.6.6"
  }
 },
 "nbformat": 4,
 "nbformat_minor": 2
}
