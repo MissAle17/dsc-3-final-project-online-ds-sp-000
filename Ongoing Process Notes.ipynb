{
 "cells": [
  {
   "cell_type": "markdown",
   "metadata": {},
   "source": [
    "\n",
    "Using an additional notebook to document process as I move along.\n",
    "\n",
    "\n",
    "Data description and explanation\n",
    "\n",
    "Import libraries\n",
    "\n",
    "Load thee data into Pandas Dataframe\n",
    "\n",
    "Review of attribute descriptions provided with the original dataset\n",
    "\n",
    "Look at summary statistics \n",
    "\n",
    "Convert target to binary [0,1]\n",
    "\n",
    "Save target as separate variable and make a new dataframe for our features with the y series dropped\n",
    "\n",
    "Get dummy variables for categorical features\n",
    "\n",
    "Visualizing the selected features using histograms and box-and-whisker plots\n",
    "\n",
    "Recreating the heatmap with the chosen level of features\n",
    "\n",
    "Splitting data into train test splits\n",
    "\n",
    "Setting a baseline Logistic regression model using pipelines \n",
    "\n",
    "Running separate pipelines for 5 additional models [SVM, Decision tree, Random Forest, XGBoost, AdaBoost]\n",
    "\n",
    "Creating ROCs to review model performance for each model individually\n",
    "\n",
    "Plotting each models' ROC on the same axis\n",
    "\n",
    "Computing additional metrics, precion, recall, and F-1 scores to assess the model appropriateness\n",
    "\n",
    "Business Insights and summary of methods.  "
   ]
  },
  {
   "cell_type": "code",
   "execution_count": null,
   "metadata": {},
   "outputs": [],
   "source": []
  }
 ],
 "metadata": {
  "kernelspec": {
   "display_name": "Python [conda env:learn-env] *",
   "language": "python",
   "name": "conda-env-learn-env-py"
  },
  "language_info": {
   "codemirror_mode": {
    "name": "ipython",
    "version": 3
   },
   "file_extension": ".py",
   "mimetype": "text/x-python",
   "name": "python",
   "nbconvert_exporter": "python",
   "pygments_lexer": "ipython3",
   "version": "3.6.6"
  }
 },
 "nbformat": 4,
 "nbformat_minor": 2
}
